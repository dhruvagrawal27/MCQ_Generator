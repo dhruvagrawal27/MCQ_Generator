{
 "cells": [
  {
   "cell_type": "code",
   "execution_count": 2,
   "metadata": {},
   "outputs": [
    {
     "data": {
      "text/plain": [
       "True"
      ]
     },
     "execution_count": 2,
     "metadata": {},
     "output_type": "execute_result"
    }
   ],
   "source": [
    "import os\n",
    "from dotenv import load_dotenv\n",
    "\n",
    "\n",
    "load_dotenv()\n"
   ]
  },
  {
   "cell_type": "code",
   "execution_count": 8,
   "metadata": {},
   "outputs": [
    {
     "name": "stdout",
     "output_type": "stream",
     "text": [
      "NVIDIA_LLAMA2_KEY loaded: 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\n"
     ]
    }
   ],
   "source": [
    "key = os.getenv(\"NVIDIA_LLAMA2_KEY\")\n",
    "\n",
    "if nvidia_key:\n",
    "    print(f\"NVIDIA_LLAMA2_KEY loaded: {key}\")\n",
    "else:\n",
    "    print(\"NVIDIA_LLAMA2_KEY is not found or failed to load.\")"
   ]
  },
  {
   "cell_type": "code",
   "execution_count": 5,
   "metadata": {},
   "outputs": [],
   "source": [
    "import os\n",
    "import json\n",
    "import pandas as pd\n",
    "import traceback\n",
    "from langchain.chat_models import ChatOpenAI\n",
    "from langchain.llms import OpenAI\n",
    "from langchain.prompts import PromptTemplate\n",
    "from langchain.chains import LLMChain\n",
    "from langchain.chains import SequentialChain\n",
    "from langchain.callbacks import get_openai_callback\n",
    "import PyPDF2\n",
    "from langchain_nvidia_ai_endpoints import ChatNVIDIA"
   ]
  },
  {
   "cell_type": "code",
   "execution_count": 13,
   "metadata": {},
   "outputs": [],
   "source": [
    "\n",
    "llm = ChatNVIDIA(\n",
    "  model=\"meta/llama2-70b\",\n",
    "  api_key=key, \n",
    "  temperature=0.45\n",
    ")"
   ]
  },
  {
   "cell_type": "code",
   "execution_count": 10,
   "metadata": {},
   "outputs": [],
   "source": [
    "RESPONSE_JSON = {\n",
    "    \"1\": {\n",
    "        \"mcq\": \"multiple choice question\",\n",
    "        \"options\": {\n",
    "            \"a\": \"choice here\",\n",
    "            \"b\": \"choice here\",\n",
    "            \"c\": \"choice here\",\n",
    "            \"d\": \"choice here\",\n",
    "        },\n",
    "        \"correct\": \"correct answer\",\n",
    "    },\n",
    "    \"2\": {\n",
    "        \"mcq\": \"multiple choice question\",\n",
    "        \"options\": {\n",
    "            \"a\": \"choice here\",\n",
    "            \"b\": \"choice here\",\n",
    "            \"c\": \"choice here\",\n",
    "            \"d\": \"choice here\",\n",
    "        },\n",
    "        \"correct\": \"correct answer\",\n",
    "    },\n",
    "    \"3\": {\n",
    "        \"mcq\": \"multiple choice question\",\n",
    "        \"options\": {\n",
    "            \"a\": \"choice here\",\n",
    "            \"b\": \"choice here\",\n",
    "            \"c\": \"choice here\",\n",
    "            \"d\": \"choice here\",\n",
    "        },\n",
    "        \"correct\": \"correct answer\",\n",
    "    },\n",
    "}"
   ]
  },
  {
   "cell_type": "code",
   "execution_count": 11,
   "metadata": {},
   "outputs": [],
   "source": [
    "TEMPLATE = \"\"\"\n",
    "You are an accomplished educational assessment designer specializing in creating engaging multiple-choice questions (MCQs). \n",
    "\n",
    "INPUT TEXT:\n",
    "{text}\n",
    "\n",
    "TASK:\n",
    "Create {number} thought-provoking MCQs based on the provided text, tailored for a {tone} difficulty level.\n",
    "\n",
    "REQUIREMENTS:\n",
    "1. Subject Analysis:\n",
    "   - Identify the primary subject area and specific topics covered\n",
    "   - Consider the learning objectives evident in the text\n",
    "   - Align questions with educational standards when applicable\n",
    "\n",
    "2. Question Design:\n",
    "   - Create questions that test different cognitive levels (recall, understanding, application, analysis)\n",
    "   - Include a mix of:\n",
    "     * Direct concept questions\n",
    "     * Scenario-based questions\n",
    "     * Application-oriented questions\n",
    "     * Critical thinking questions\n",
    "   - Ensure questions progress from simpler to more complex concepts\n",
    "   - Avoid repetitive content or question patterns\n",
    "\n",
    "3. Answer Options:\n",
    "   - Provide 4 options per question\n",
    "   - Include one clearly correct answer\n",
    "   - Create plausible distractors that:\n",
    "     * Reflect common misconceptions\n",
    "     * Are grammatically consistent\n",
    "     * Are similar in length\n",
    "     * Follow logical ordering (numerical/alphabetical when applicable)\n",
    "\n",
    "4. Quality Control:\n",
    "   - Verify all questions are answerable from the provided text\n",
    "   - Ensure language clarity and accessibility\n",
    "   - Double-check factual accuracy\n",
    "   - Avoid cultural or regional bias\n",
    "   - Include explanations for correct answers\n",
    "Ensure to make {number} MCQs\n",
    "### RESPONSE_JSON\n",
    "{response_json}\n",
    "\n",
    "\"\"\""
   ]
  },
  {
   "cell_type": "code",
   "execution_count": 12,
   "metadata": {},
   "outputs": [],
   "source": [
    "quiz_generation_prompt = PromptTemplate(\n",
    "    input_variables=[\"text\", \"number\", \"tone\", \"response_json\"],\n",
    "    template=TEMPLATE\n",
    "    )"
   ]
  },
  {
   "cell_type": "code",
   "execution_count": 14,
   "metadata": {},
   "outputs": [
    {
     "name": "stderr",
     "output_type": "stream",
     "text": [
      "C:\\Users\\lenovo\\AppData\\Local\\Temp\\ipykernel_10944\\2669661367.py:1: LangChainDeprecationWarning: The class `LLMChain` was deprecated in LangChain 0.1.17 and will be removed in 1.0. Use :meth:`~RunnableSequence, e.g., `prompt | llm`` instead.\n",
      "  quiz_chain=LLMChain(llm=llm, prompt=quiz_generation_prompt, output_key=\"quiz\", verbose=True)\n"
     ]
    }
   ],
   "source": [
    "quiz_chain=LLMChain(llm=llm, prompt=quiz_generation_prompt, output_key=\"quiz\", verbose=True)"
   ]
  },
  {
   "cell_type": "code",
   "execution_count": 15,
   "metadata": {},
   "outputs": [],
   "source": [
    "TEMPLATE2=\"\"\"\n",
    "You are an expert english grammarian and writer. Given a Multiple Choice Quiz for students.\\\n",
    "You need to evaluate the complexity of the question and give a complete analysis of the quiz. Only use at max 50 words for complexity analysis. \n",
    "if the quiz is not at per with the cognitive and analytical abilities of the students,\\\n",
    "update the quiz questions which needs to be changed and change the tone such that it perfectly fits the student abilities\n",
    "Quiz_MCQs:\n",
    "{quiz}\n",
    "\n",
    "Check from an expert English Writer of the above quiz:\n",
    "\"\"\""
   ]
  },
  {
   "cell_type": "code",
   "execution_count": 16,
   "metadata": {},
   "outputs": [],
   "source": [
    "quiz_evaluation_prompt=PromptTemplate(input_variables=[\"quiz\"], template=TEMPLATE)"
   ]
  },
  {
   "cell_type": "code",
   "execution_count": 17,
   "metadata": {},
   "outputs": [],
   "source": [
    "\n",
    "review_chain=LLMChain(llm=llm, prompt=quiz_evaluation_prompt, output_key=\"review\", verbose=True)"
   ]
  },
  {
   "cell_type": "code",
   "execution_count": 18,
   "metadata": {},
   "outputs": [],
   "source": [
    "generate_evaluate_chain=SequentialChain(chains=[quiz_chain, review_chain], input_variables=[\"text\", \"number\", \"tone\", \"response_json\"], \n",
    "                                        output_variables=[\"quiz\", \"review\"], verbose=True,)"
   ]
  },
  {
   "cell_type": "code",
   "execution_count": 20,
   "metadata": {},
   "outputs": [],
   "source": [
    "with open(r\"F:\\MCQ_Generator\\data.txt\", 'r') as file:\n",
    "    TEXT = file.read()"
   ]
  },
  {
   "cell_type": "code",
   "execution_count": 21,
   "metadata": {},
   "outputs": [
    {
     "name": "stdout",
     "output_type": "stream",
     "text": [
      "Maharana Pratap (1540-1597) was a renowned Rajput ruler of Mewar (in present-day Rajasthan, India), celebrated for his fierce resistance against the Mughal Empire. He was the eldest son of Udai Singh II and succeeded to the throne of Mewar in 1572.\n",
      "Most famously, Pratap refused to submit to Mughal Emperor Akbar, unlike many other Rajput rulers of his time. The Battle of Haldighati (1576) against Akbar's forces, led by Man Singh I, is particularly legendary. Though Pratap's forces were outnumbered, he fought valiantly. His loyal horse Chetak died protecting him in this battle.\n",
      "Despite losing Chittor, his capital, Pratap continued guerrilla warfare from the hills of Aravalli. He lived in difficult conditions in the forests but never gave up his struggle for independence. He managed to reclaim much of Mewar except Chittor through strategic warfare and maintained his sovereignty.\n",
      "Maharana Pratap is remembered as a symbol of Rajput valor, patriotism, and resistance against foreign rule. His unwavering commitment to freedom and dignity, even in the face of hardship, has made him an iconic figure in Indian history. He remains an inspiration for his leadership, courage, and determination to protect his homeland's independence.\n"
     ]
    }
   ],
   "source": [
    "print(TEXT)"
   ]
  },
  {
   "cell_type": "code",
   "execution_count": 22,
   "metadata": {},
   "outputs": [
    {
     "data": {
      "text/plain": [
       "'{\"1\": {\"mcq\": \"multiple choice question\", \"options\": {\"a\": \"choice here\", \"b\": \"choice here\", \"c\": \"choice here\", \"d\": \"choice here\"}, \"correct\": \"correct answer\"}, \"2\": {\"mcq\": \"multiple choice question\", \"options\": {\"a\": \"choice here\", \"b\": \"choice here\", \"c\": \"choice here\", \"d\": \"choice here\"}, \"correct\": \"correct answer\"}, \"3\": {\"mcq\": \"multiple choice question\", \"options\": {\"a\": \"choice here\", \"b\": \"choice here\", \"c\": \"choice here\", \"d\": \"choice here\"}, \"correct\": \"correct answer\"}}'"
      ]
     },
     "execution_count": 22,
     "metadata": {},
     "output_type": "execute_result"
    }
   ],
   "source": [
    "json.dumps(RESPONSE_JSON)"
   ]
  },
  {
   "cell_type": "code",
   "execution_count": 24,
   "metadata": {},
   "outputs": [],
   "source": [
    "NUMBER=5 \n",
    "TONE=\"Hard\""
   ]
  },
  {
   "cell_type": "code",
   "execution_count": 25,
   "metadata": {},
   "outputs": [
    {
     "name": "stderr",
     "output_type": "stream",
     "text": [
      "C:\\Users\\lenovo\\AppData\\Local\\Temp\\ipykernel_10944\\2092646909.py:3: LangChainDeprecationWarning: The method `Chain.__call__` was deprecated in langchain 0.1.0 and will be removed in 1.0. Use :meth:`~invoke` instead.\n",
      "  response=generate_evaluate_chain(\n"
     ]
    },
    {
     "name": "stdout",
     "output_type": "stream",
     "text": [
      "\n",
      "\n",
      "\u001b[1m> Entering new SequentialChain chain...\u001b[0m\n",
      "\n",
      "\n",
      "\u001b[1m> Entering new LLMChain chain...\u001b[0m\n",
      "Prompt after formatting:\n",
      "\u001b[32;1m\u001b[1;3m\n",
      "You are an accomplished educational assessment designer specializing in creating engaging multiple-choice questions (MCQs). \n",
      "\n",
      "INPUT TEXT:\n",
      "Maharana Pratap (1540-1597) was a renowned Rajput ruler of Mewar (in present-day Rajasthan, India), celebrated for his fierce resistance against the Mughal Empire. He was the eldest son of Udai Singh II and succeeded to the throne of Mewar in 1572.\n",
      "Most famously, Pratap refused to submit to Mughal Emperor Akbar, unlike many other Rajput rulers of his time. The Battle of Haldighati (1576) against Akbar's forces, led by Man Singh I, is particularly legendary. Though Pratap's forces were outnumbered, he fought valiantly. His loyal horse Chetak died protecting him in this battle.\n",
      "Despite losing Chittor, his capital, Pratap continued guerrilla warfare from the hills of Aravalli. He lived in difficult conditions in the forests but never gave up his struggle for independence. He managed to reclaim much of Mewar except Chittor through strategic warfare and maintained his sovereignty.\n",
      "Maharana Pratap is remembered as a symbol of Rajput valor, patriotism, and resistance against foreign rule. His unwavering commitment to freedom and dignity, even in the face of hardship, has made him an iconic figure in Indian history. He remains an inspiration for his leadership, courage, and determination to protect his homeland's independence.\n",
      "\n",
      "TASK:\n",
      "Create 5 thought-provoking MCQs based on the provided text, tailored for a Hard difficulty level.\n",
      "\n",
      "REQUIREMENTS:\n",
      "1. Subject Analysis:\n",
      "   - Identify the primary subject area and specific topics covered\n",
      "   - Consider the learning objectives evident in the text\n",
      "   - Align questions with educational standards when applicable\n",
      "\n",
      "2. Question Design:\n",
      "   - Create questions that test different cognitive levels (recall, understanding, application, analysis)\n",
      "   - Include a mix of:\n",
      "     * Direct concept questions\n",
      "     * Scenario-based questions\n",
      "     * Application-oriented questions\n",
      "     * Critical thinking questions\n",
      "   - Ensure questions progress from simpler to more complex concepts\n",
      "   - Avoid repetitive content or question patterns\n",
      "\n",
      "3. Answer Options:\n",
      "   - Provide 4 options per question\n",
      "   - Include one clearly correct answer\n",
      "   - Create plausible distractors that:\n",
      "     * Reflect common misconceptions\n",
      "     * Are grammatically consistent\n",
      "     * Are similar in length\n",
      "     * Follow logical ordering (numerical/alphabetical when applicable)\n",
      "\n",
      "4. Quality Control:\n",
      "   - Verify all questions are answerable from the provided text\n",
      "   - Ensure language clarity and accessibility\n",
      "   - Double-check factual accuracy\n",
      "   - Avoid cultural or regional bias\n",
      "   - Include explanations for correct answers\n",
      "Ensure to make 5 MCQs\n",
      "### RESPONSE_JSON\n",
      "{\"1\": {\"mcq\": \"multiple choice question\", \"options\": {\"a\": \"choice here\", \"b\": \"choice here\", \"c\": \"choice here\", \"d\": \"choice here\"}, \"correct\": \"correct answer\"}, \"2\": {\"mcq\": \"multiple choice question\", \"options\": {\"a\": \"choice here\", \"b\": \"choice here\", \"c\": \"choice here\", \"d\": \"choice here\"}, \"correct\": \"correct answer\"}, \"3\": {\"mcq\": \"multiple choice question\", \"options\": {\"a\": \"choice here\", \"b\": \"choice here\", \"c\": \"choice here\", \"d\": \"choice here\"}, \"correct\": \"correct answer\"}}\n",
      "\n",
      "\u001b[0m\n",
      "\n",
      "\u001b[1m> Finished chain.\u001b[0m\n",
      "\n",
      "\n",
      "\u001b[1m> Entering new LLMChain chain...\u001b[0m\n",
      "Prompt after formatting:\n",
      "\u001b[32;1m\u001b[1;3m\n",
      "You are an accomplished educational assessment designer specializing in creating engaging multiple-choice questions (MCQs). \n",
      "\n",
      "INPUT TEXT:\n",
      "Maharana Pratap (1540-1597) was a renowned Rajput ruler of Mewar (in present-day Rajasthan, India), celebrated for his fierce resistance against the Mughal Empire. He was the eldest son of Udai Singh II and succeeded to the throne of Mewar in 1572.\n",
      "Most famously, Pratap refused to submit to Mughal Emperor Akbar, unlike many other Rajput rulers of his time. The Battle of Haldighati (1576) against Akbar's forces, led by Man Singh I, is particularly legendary. Though Pratap's forces were outnumbered, he fought valiantly. His loyal horse Chetak died protecting him in this battle.\n",
      "Despite losing Chittor, his capital, Pratap continued guerrilla warfare from the hills of Aravalli. He lived in difficult conditions in the forests but never gave up his struggle for independence. He managed to reclaim much of Mewar except Chittor through strategic warfare and maintained his sovereignty.\n",
      "Maharana Pratap is remembered as a symbol of Rajput valor, patriotism, and resistance against foreign rule. His unwavering commitment to freedom and dignity, even in the face of hardship, has made him an iconic figure in Indian history. He remains an inspiration for his leadership, courage, and determination to protect his homeland's independence.\n",
      "\n",
      "TASK:\n",
      "Create 5 thought-provoking MCQs based on the provided text, tailored for a Hard difficulty level.\n",
      "\n",
      "REQUIREMENTS:\n",
      "1. Subject Analysis:\n",
      "   - Identify the primary subject area and specific topics covered\n",
      "   - Consider the learning objectives evident in the text\n",
      "   - Align questions with educational standards when applicable\n",
      "\n",
      "2. Question Design:\n",
      "   - Create questions that test different cognitive levels (recall, understanding, application, analysis)\n",
      "   - Include a mix of:\n",
      "     * Direct concept questions\n",
      "     * Scenario-based questions\n",
      "     * Application-oriented questions\n",
      "     * Critical thinking questions\n",
      "   - Ensure questions progress from simpler to more complex concepts\n",
      "   - Avoid repetitive content or question patterns\n",
      "\n",
      "3. Answer Options:\n",
      "   - Provide 4 options per question\n",
      "   - Include one clearly correct answer\n",
      "   - Create plausible distractors that:\n",
      "     * Reflect common misconceptions\n",
      "     * Are grammatically consistent\n",
      "     * Are similar in length\n",
      "     * Follow logical ordering (numerical/alphabetical when applicable)\n",
      "\n",
      "4. Quality Control:\n",
      "   - Verify all questions are answerable from the provided text\n",
      "   - Ensure language clarity and accessibility\n",
      "   - Double-check factual accuracy\n",
      "   - Avoid cultural or regional bias\n",
      "   - Include explanations for correct answers\n",
      "Ensure to make 5 MCQs\n",
      "### RESPONSE_JSON\n",
      "{\"1\": {\"mcq\": \"multiple choice question\", \"options\": {\"a\": \"choice here\", \"b\": \"choice here\", \"c\": \"choice here\", \"d\": \"choice here\"}, \"correct\": \"correct answer\"}, \"2\": {\"mcq\": \"multiple choice question\", \"options\": {\"a\": \"choice here\", \"b\": \"choice here\", \"c\": \"choice here\", \"d\": \"choice here\"}, \"correct\": \"correct answer\"}, \"3\": {\"mcq\": \"multiple choice question\", \"options\": {\"a\": \"choice here\", \"b\": \"choice here\", \"c\": \"choice here\", \"d\": \"choice here\"}, \"correct\": \"correct answer\"}}\n",
      "\n",
      "\u001b[0m\n",
      "\n",
      "\u001b[1m> Finished chain.\u001b[0m\n",
      "\n",
      "\u001b[1m> Finished chain.\u001b[0m\n"
     ]
    }
   ],
   "source": [
    "#How to setup Token Usage Tracking in LangChain\n",
    "with get_openai_callback() as cb:\n",
    "    response=generate_evaluate_chain(\n",
    "        {\n",
    "            \"text\": TEXT,\n",
    "            \"number\": NUMBER,\n",
    "            \"tone\": TONE,\n",
    "            \"response_json\": json.dumps(RESPONSE_JSON)\n",
    "        }\n",
    "        )"
   ]
  },
  {
   "cell_type": "code",
   "execution_count": 26,
   "metadata": {},
   "outputs": [
    {
     "name": "stdout",
     "output_type": "stream",
     "text": [
      "Total Tokens:2882\n",
      "Prompt Tokens:1720\n",
      "Completion Tokens:1162\n",
      "Total Cost:0.0\n"
     ]
    }
   ],
   "source": [
    "print(f\"Total Tokens:{cb.total_tokens}\")\n",
    "print(f\"Prompt Tokens:{cb.prompt_tokens}\")\n",
    "print(f\"Completion Tokens:{cb.completion_tokens}\")\n",
    "print(f\"Total Cost:{cb.total_cost}\")"
   ]
  },
  {
   "cell_type": "code",
   "execution_count": 31,
   "metadata": {},
   "outputs": [
    {
     "data": {
      "text/plain": [
       "{'text': \"Maharana Pratap (1540-1597) was a renowned Rajput ruler of Mewar (in present-day Rajasthan, India), celebrated for his fierce resistance against the Mughal Empire. He was the eldest son of Udai Singh II and succeeded to the throne of Mewar in 1572.\\nMost famously, Pratap refused to submit to Mughal Emperor Akbar, unlike many other Rajput rulers of his time. The Battle of Haldighati (1576) against Akbar's forces, led by Man Singh I, is particularly legendary. Though Pratap's forces were outnumbered, he fought valiantly. His loyal horse Chetak died protecting him in this battle.\\nDespite losing Chittor, his capital, Pratap continued guerrilla warfare from the hills of Aravalli. He lived in difficult conditions in the forests but never gave up his struggle for independence. He managed to reclaim much of Mewar except Chittor through strategic warfare and maintained his sovereignty.\\nMaharana Pratap is remembered as a symbol of Rajput valor, patriotism, and resistance against foreign rule. His unwavering commitment to freedom and dignity, even in the face of hardship, has made him an iconic figure in Indian history. He remains an inspiration for his leadership, courage, and determination to protect his homeland's independence.\",\n",
       " 'number': 5,\n",
       " 'tone': 'Hard',\n",
       " 'response_json': '{\"1\": {\"mcq\": \"multiple choice question\", \"options\": {\"a\": \"choice here\", \"b\": \"choice here\", \"c\": \"choice here\", \"d\": \"choice here\"}, \"correct\": \"correct answer\"}, \"2\": {\"mcq\": \"multiple choice question\", \"options\": {\"a\": \"choice here\", \"b\": \"choice here\", \"c\": \"choice here\", \"d\": \"choice here\"}, \"correct\": \"correct answer\"}, \"3\": {\"mcq\": \"multiple choice question\", \"options\": {\"a\": \"choice here\", \"b\": \"choice here\", \"c\": \"choice here\", \"d\": \"choice here\"}, \"correct\": \"correct answer\"}}',\n",
       " 'quiz': \"  Sure, here are 5 thought-provoking MCQs based on the provided text, tailored for a Hard difficulty level:\\n\\n1. What was the primary reason for Maharana Pratap's resistance against the Mughal Empire?\\n\\nA) He wanted to expand his kingdom and conquer new territories.\\nB) He was opposed to the Mughal Empire's religious policies.\\nC) He wanted to protect his homeland's independence and sovereignty.\\nD) He was angry with the Mughal Emperor Akbar's refusal to grant him a higher title.\\n\\nCorrect answer: C) He wanted to protect his homeland's independence and sovereignty.\\n\\n2. Which battle did Maharana Pratap fight against the Mughal Empire, led by Man Singh I?\\n\\nA) The Battle of Haldighati\\nB) The Battle of Chittor\\nC) The Battle of Aravalli\\nD) The Battle of Mewar\\n\\nCorrect answer: A) The Battle of Haldighati\\n\\n3. What was the name of Maharana Pratap's loyal horse that died protecting him in the Battle of Haldighati?\\n\\nA) Chetak\\nB) Raju\\nC) Raja\\nD) Ranveer\\n\\nCorrect answer: A) Chetak\\n\\n4. How did Maharana Pratap manage to reclaim much of Mewar except Chittor through strategic warfare?\\n\\nA) By forming alliances with neighboring kingdoms\\nB) By using guerrilla warfare tactics\\nC) By paying a large ransom to the Mughal Empire\\nD) By surrendering to the Mughal Empire\\n\\nCorrect answer: B) By using guerrilla warfare tactics\\n\\n5. Which of the following best describes Maharana Pratap's leadership style?\\n\\nA) Autocratic\\nB) Democratic\\nC) Laissez-faire\\nD) Transformational\\n\\nCorrect answer: D) Transformational\\n\\nExplanation: Maharana Pratap's leadership style was transformational, as he inspired and motivated his people to fight for their freedom and independence, even in the face of adversity. He led by example, and his courage and determination inspired his followers to remain loyal and committed to their cause.\",\n",
       " 'review': \"  Sure, here are 5 thought-provoking MCQs based on the provided text, tailored for a Hard difficulty level:\\n\\n1. What was Maharana Pratap's primary motivation for resisting the Mughal Empire?\\n\\nA) To protect his homeland's independence\\nB) To gain wealth and power\\nC) To spread Hinduism throughout India\\nD) To avenge his father's death\\n\\nCorrect answer: A) To protect his homeland's independence\\n\\n2. What was the outcome of the Battle of Haldighati for Maharana Pratap's forces?\\n\\nA) They were victorious and defeated the Mughal forces\\nB) They were outnumbered and outmatched, but fought valiantly\\nC) They retreated and regrouped to continue guerrilla warfare\\nD) They surrendered and Maharana Pratap was captured\\n\\nCorrect answer: B) They were outnumbered and outmatched, but fought valiantly\\n\\n3. How did Maharana Pratap manage to reclaim much of Mewar except Chittor?\\n\\nA) Through strategic alliances with neighboring kingdoms\\nB) By using guerrilla warfare tactics in the Aravalli hills\\nC) By negotiating with the Mughal Empire for a peace treaty\\nD) By leading a full-scale attack on the Mughal forces\\n\\nCorrect answer: B) By using guerrilla warfare tactics in the Aravalli hills\\n\\n4. What was the significance of Maharana Pratap's horse, Chetak?\\n\\nA) It was a symbol of his wealth and status\\nB) It was a loyal companion that died protecting him in battle\\nC) It was a gift from the Mughal Emperor Akbar\\nD) It was a prized war horse that led his army to victory\\n\\nCorrect answer: B) It was a loyal companion that died protecting him in battle\\n\\n5. How is Maharana Pratap remembered in Indian history?\\n\\nA) As a cowardly ruler who submitted to the Mughal Empire\\nB) As a symbol of Rajput valor, patriotism, and resistance against foreign rule\\nC) As a brutal tyrant who oppressed his people\\nD) As a weak leader who failed to protect his kingdom\\n\\nCorrect answer: B) As a symbol of Rajput valor, patriotism, and resistance against foreign rule\\n\\nThese questions progress from simpler to more complex concepts, test different cognitive levels, and include a mix of direct concept questions, scenario-based questions, application-oriented questions, and critical thinking questions. The answer options are plausible and reflect common misconceptions, and the questions are designed to be challenging but not impossible to answer.\"}"
      ]
     },
     "execution_count": 31,
     "metadata": {},
     "output_type": "execute_result"
    }
   ],
   "source": [
    "response"
   ]
  },
  {
   "cell_type": "code",
   "execution_count": 30,
   "metadata": {},
   "outputs": [
    {
     "name": "stdout",
     "output_type": "stream",
     "text": [
      "  Sure, here are 5 thought-provoking MCQs based on the provided text, tailored for a Hard difficulty level:\n",
      "\n",
      "1. What was the primary reason for Maharana Pratap's resistance against the Mughal Empire?\n",
      "\n",
      "A) He wanted to expand his kingdom and conquer new territories.\n",
      "B) He was opposed to the Mughal Empire's religious policies.\n",
      "C) He wanted to protect his homeland's independence and sovereignty.\n",
      "D) He was angry with the Mughal Emperor Akbar's refusal to grant him a higher title.\n",
      "\n",
      "Correct answer: C) He wanted to protect his homeland's independence and sovereignty.\n",
      "\n",
      "2. Which battle did Maharana Pratap fight against the Mughal Empire, led by Man Singh I?\n",
      "\n",
      "A) The Battle of Haldighati\n",
      "B) The Battle of Chittor\n",
      "C) The Battle of Aravalli\n",
      "D) The Battle of Mewar\n",
      "\n",
      "Correct answer: A) The Battle of Haldighati\n",
      "\n",
      "3. What was the name of Maharana Pratap's loyal horse that died protecting him in the Battle of Haldighati?\n",
      "\n",
      "A) Chetak\n",
      "B) Raju\n",
      "C) Raja\n",
      "D) Ranveer\n",
      "\n",
      "Correct answer: A) Chetak\n",
      "\n",
      "4. How did Maharana Pratap manage to reclaim much of Mewar except Chittor through strategic warfare?\n",
      "\n",
      "A) By forming alliances with neighboring kingdoms\n",
      "B) By using guerrilla warfare tactics\n",
      "C) By paying a large ransom to the Mughal Empire\n",
      "D) By surrendering to the Mughal Empire\n",
      "\n",
      "Correct answer: B) By using guerrilla warfare tactics\n",
      "\n",
      "5. Which of the following best describes Maharana Pratap's leadership style?\n",
      "\n",
      "A) Autocratic\n",
      "B) Democratic\n",
      "C) Laissez-faire\n",
      "D) Transformational\n",
      "\n",
      "Correct answer: D) Transformational\n",
      "\n",
      "Explanation: Maharana Pratap's leadership style was transformational, as he inspired and motivated his people to fight for their freedom and independence, even in the face of adversity. He led by example, and his courage and determination inspired his followers to remain loyal and committed to their cause.\n"
     ]
    }
   ],
   "source": [
    "quiz=response.get(\"quiz\")\n",
    "print(quiz)"
   ]
  },
  {
   "cell_type": "code",
   "execution_count": 32,
   "metadata": {},
   "outputs": [
    {
     "name": "stdout",
     "output_type": "stream",
     "text": [
      "{\n",
      "    \"1\": {\n",
      "        \"mcq\": \"What was the primary reason for Maharana Pratap's resistance against the Mughal Empire?\",\n",
      "        \"options\": {\n",
      "            \"a\": \"He wanted to expand his kingdom and conquer new territories.\",\n",
      "            \"b\": \"He was opposed to the Mughal Empire's religious policies.\",\n",
      "            \"c\": \"He wanted to protect his homeland's independence and sovereignty.\",\n",
      "            \"d\": \"He was angry with the Mughal Emperor Akbar's refusal to grant him a higher title.\"\n",
      "        },\n",
      "        \"correct\": \"c\"\n",
      "    },\n",
      "    \"2\": {\n",
      "        \"mcq\": \"Which battle did Maharana Pratap fight against the Mughal Empire, led by Man Singh I?\",\n",
      "        \"options\": {\n",
      "            \"a\": \"The Battle of Haldighati\",\n",
      "            \"b\": \"The Battle of Chittor\",\n",
      "            \"c\": \"The Battle of Aravalli\",\n",
      "            \"d\": \"The Battle of Mewar\"\n",
      "        },\n",
      "        \"correct\": \"a\"\n",
      "    },\n",
      "    \"3\": {\n",
      "        \"mcq\": \"What was the name of Maharana Pratap's loyal horse that died protecting him in the Battle of Haldighati?\",\n",
      "        \"options\": {\n",
      "            \"a\": \"Chetak\",\n",
      "            \"b\": \"Raju\",\n",
      "            \"c\": \"Raja\",\n",
      "            \"d\": \"Ranveer\"\n",
      "        },\n",
      "        \"correct\": \"a\"\n",
      "    },\n",
      "    \"4\": {\n",
      "        \"mcq\": \"How did Maharana Pratap manage to reclaim much of Mewar except Chittor through strategic warfare?\",\n",
      "        \"options\": {\n",
      "            \"a\": \"By forming alliances with neighboring kingdoms\",\n",
      "            \"b\": \"By using guerrilla warfare tactics\",\n",
      "            \"c\": \"By paying a large ransom to the Mughal Empire\",\n",
      "            \"d\": \"By surrendering to the Mughal Empire\"\n",
      "        },\n",
      "        \"correct\": \"b\"\n",
      "    },\n",
      "    \"5\": {\n",
      "        \"mcq\": \"Which of the following best describes Maharana Pratap's leadership style?\",\n",
      "        \"options\": {\n",
      "            \"a\": \"Autocratic\",\n",
      "            \"b\": \"Democratic\",\n",
      "            \"c\": \"Laissez-faire\",\n",
      "            \"d\": \"Transformational\"\n",
      "        },\n",
      "        \"correct\": \"d\"\n",
      "    }\n",
      "}\n"
     ]
    }
   ],
   "source": [
    "import json\n",
    "import re\n",
    "\n",
    "def convert_to_json_format(input_text):\n",
    "    \"\"\"\n",
    "    Convert the MCQ response into a JSON-compatible format.\n",
    "    \"\"\"\n",
    "    # Split the input text into individual questions\n",
    "    questions = re.split(r'\\n\\d+\\.\\s', input_text.strip())\n",
    "    response_json = {}\n",
    "\n",
    "    for i, question in enumerate(questions[1:], 1):  # Skip the first split part (intro text)\n",
    "        # Extract question text\n",
    "        mcq_match = re.match(r\"(.*?)\\n\", question)\n",
    "        mcq = mcq_match.group(1).strip() if mcq_match else \"\"\n",
    "\n",
    "        # Extract options\n",
    "        options_match = re.findall(r\"([A-D])\\)\\s(.*?)(?=\\n|$)\", question)\n",
    "        options = {opt[0].lower(): opt[1].strip() for opt in options_match}\n",
    "\n",
    "        # Extract correct answer\n",
    "        correct_match = re.search(r\"Correct answer:\\s([A-D])\", question)\n",
    "        correct = correct_match.group(1).lower() if correct_match else \"\"\n",
    "\n",
    "        # Add to response_json\n",
    "        response_json[str(i)] = {\n",
    "            \"mcq\": mcq,\n",
    "            \"options\": options,\n",
    "            \"correct\": correct,\n",
    "        }\n",
    "\n",
    "    return json.dumps(response_json, indent=4)\n",
    "\n",
    "# Convert to JSON\n",
    "converted_json = convert_to_json_format(quiz)\n",
    "print(converted_json)\n"
   ]
  },
  {
   "cell_type": "code",
   "execution_count": 34,
   "metadata": {},
   "outputs": [],
   "source": [
    "quiz=json.loads(converted_json)"
   ]
  },
  {
   "cell_type": "code",
   "execution_count": 38,
   "metadata": {},
   "outputs": [],
   "source": [
    "import pandas as pd\n",
    "from typing import Dict, List\n",
    "import logging\n",
    "from datetime import datetime\n",
    "\n",
    "# Set up logging\n",
    "logging.basicConfig(\n",
    "    level=logging.INFO,\n",
    "    format='%(asctime)s - %(levelname)s - %(message)s'\n",
    ")\n",
    "logger = logging.getLogger(__name__)"
   ]
  },
  {
   "cell_type": "code",
   "execution_count": 39,
   "metadata": {},
   "outputs": [],
   "source": [
    "class QuizProcessor:\n",
    "    \"\"\"\n",
    "    A class to process quiz data with options split into separate columns\n",
    "    \"\"\"\n",
    "    \n",
    "    def __init__(self, quiz_data: Dict):\n",
    "        self.quiz = quiz_data\n",
    "        self.processed_data = []\n",
    "        self.logger = logging.getLogger(__name__)\n",
    "\n",
    "    def process_quiz_data(self) -> List[Dict]:\n",
    "        \"\"\"Process quiz data with separate columns for each option\"\"\"\n",
    "        self.logger.info(\"Starting quiz data processing...\")\n",
    "        \n",
    "        try:\n",
    "            for question_id, question_data in self.quiz.items():\n",
    "                processed_question = {\n",
    "                    \"Question\": question_data[\"mcq\"],\n",
    "                    \"Option_A\": question_data[\"options\"][\"a\"],\n",
    "                    \"Option_B\": question_data[\"options\"][\"b\"],\n",
    "                    \"Option_C\": question_data[\"options\"][\"c\"],\n",
    "                    \"Option_D\": question_data[\"options\"][\"d\"],\n",
    "                    \"Correct_Answer\": question_data[\"correct\"].upper()\n",
    "                }\n",
    "                self.processed_data.append(processed_question)\n",
    "                \n",
    "            self.logger.info(f\"Successfully processed {len(self.processed_data)} questions\")\n",
    "            return self.processed_data\n",
    "            \n",
    "        except Exception as e:\n",
    "            self.logger.error(f\"Error processing quiz data: {e}\")\n",
    "            raise"
   ]
  },
  {
   "cell_type": "code",
   "execution_count": 40,
   "metadata": {},
   "outputs": [
    {
     "name": "stderr",
     "output_type": "stream",
     "text": [
      "2024-11-18 02:22:17,136 - INFO - Starting quiz data processing...\n",
      "2024-11-18 02:22:17,138 - INFO - Successfully processed 5 questions\n"
     ]
    },
    {
     "name": "stdout",
     "output_type": "stream",
     "text": [
      "\n",
      "Quiz DataFrame with Split Options:\n"
     ]
    },
    {
     "data": {
      "text/html": [
       "<div>\n",
       "<style scoped>\n",
       "    .dataframe tbody tr th:only-of-type {\n",
       "        vertical-align: middle;\n",
       "    }\n",
       "\n",
       "    .dataframe tbody tr th {\n",
       "        vertical-align: top;\n",
       "    }\n",
       "\n",
       "    .dataframe thead th {\n",
       "        text-align: right;\n",
       "    }\n",
       "</style>\n",
       "<table border=\"1\" class=\"dataframe\">\n",
       "  <thead>\n",
       "    <tr style=\"text-align: right;\">\n",
       "      <th></th>\n",
       "      <th>Question</th>\n",
       "      <th>Option_A</th>\n",
       "      <th>Option_B</th>\n",
       "      <th>Option_C</th>\n",
       "      <th>Option_D</th>\n",
       "      <th>Correct_Answer</th>\n",
       "    </tr>\n",
       "  </thead>\n",
       "  <tbody>\n",
       "    <tr>\n",
       "      <th>0</th>\n",
       "      <td>What was the primary reason for Maharana Prata...</td>\n",
       "      <td>He wanted to expand his kingdom and conquer ne...</td>\n",
       "      <td>He was opposed to the Mughal Empire's religiou...</td>\n",
       "      <td>He wanted to protect his homeland's independen...</td>\n",
       "      <td>He was angry with the Mughal Emperor Akbar's r...</td>\n",
       "      <td>C</td>\n",
       "    </tr>\n",
       "    <tr>\n",
       "      <th>1</th>\n",
       "      <td>Which battle did Maharana Pratap fight against...</td>\n",
       "      <td>The Battle of Haldighati</td>\n",
       "      <td>The Battle of Chittor</td>\n",
       "      <td>The Battle of Aravalli</td>\n",
       "      <td>The Battle of Mewar</td>\n",
       "      <td>A</td>\n",
       "    </tr>\n",
       "    <tr>\n",
       "      <th>2</th>\n",
       "      <td>What was the name of Maharana Pratap's loyal h...</td>\n",
       "      <td>Chetak</td>\n",
       "      <td>Raju</td>\n",
       "      <td>Raja</td>\n",
       "      <td>Ranveer</td>\n",
       "      <td>A</td>\n",
       "    </tr>\n",
       "    <tr>\n",
       "      <th>3</th>\n",
       "      <td>How did Maharana Pratap manage to reclaim much...</td>\n",
       "      <td>By forming alliances with neighboring kingdoms</td>\n",
       "      <td>By using guerrilla warfare tactics</td>\n",
       "      <td>By paying a large ransom to the Mughal Empire</td>\n",
       "      <td>By surrendering to the Mughal Empire</td>\n",
       "      <td>B</td>\n",
       "    </tr>\n",
       "    <tr>\n",
       "      <th>4</th>\n",
       "      <td>Which of the following best describes Maharana...</td>\n",
       "      <td>Autocratic</td>\n",
       "      <td>Democratic</td>\n",
       "      <td>Laissez-faire</td>\n",
       "      <td>Transformational</td>\n",
       "      <td>D</td>\n",
       "    </tr>\n",
       "  </tbody>\n",
       "</table>\n",
       "</div>"
      ],
      "text/plain": [
       "                                            Question  \\\n",
       "0  What was the primary reason for Maharana Prata...   \n",
       "1  Which battle did Maharana Pratap fight against...   \n",
       "2  What was the name of Maharana Pratap's loyal h...   \n",
       "3  How did Maharana Pratap manage to reclaim much...   \n",
       "4  Which of the following best describes Maharana...   \n",
       "\n",
       "                                            Option_A  \\\n",
       "0  He wanted to expand his kingdom and conquer ne...   \n",
       "1                           The Battle of Haldighati   \n",
       "2                                             Chetak   \n",
       "3     By forming alliances with neighboring kingdoms   \n",
       "4                                         Autocratic   \n",
       "\n",
       "                                            Option_B  \\\n",
       "0  He was opposed to the Mughal Empire's religiou...   \n",
       "1                              The Battle of Chittor   \n",
       "2                                               Raju   \n",
       "3                 By using guerrilla warfare tactics   \n",
       "4                                         Democratic   \n",
       "\n",
       "                                            Option_C  \\\n",
       "0  He wanted to protect his homeland's independen...   \n",
       "1                             The Battle of Aravalli   \n",
       "2                                               Raja   \n",
       "3      By paying a large ransom to the Mughal Empire   \n",
       "4                                      Laissez-faire   \n",
       "\n",
       "                                            Option_D Correct_Answer  \n",
       "0  He was angry with the Mughal Emperor Akbar's r...              C  \n",
       "1                                The Battle of Mewar              A  \n",
       "2                                            Ranveer              A  \n",
       "3               By surrendering to the Mughal Empire              B  \n",
       "4                                   Transformational              D  "
      ]
     },
     "execution_count": 40,
     "metadata": {},
     "output_type": "execute_result"
    }
   ],
   "source": [
    "# Create processor instance and process data\n",
    "processor = QuizProcessor(quiz)\n",
    "processed_data = processor.process_quiz_data()\n",
    "\n",
    "# Convert to DataFrame\n",
    "quiz_df = pd.DataFrame(processed_data)\n",
    "\n",
    "# Display the DataFrame with better formatting\n",
    "pd.set_option('display.max_columns', None)\n",
    "pd.set_option('display.width', None)\n",
    "print(\"\\nQuiz DataFrame with Split Options:\")\n",
    "quiz_df"
   ]
  },
  {
   "cell_type": "code",
   "execution_count": 42,
   "metadata": {},
   "outputs": [
    {
     "name": "stdout",
     "output_type": "stream",
     "text": [
      "\n",
      "Successfully exported quiz data to machinelearning_split_options.csv\n",
      "\n",
      "First few rows of exported data:\n"
     ]
    }
   ],
   "source": [
    "try:\n",
    "    # Export to CSV\n",
    "    quiz_df.to_csv(\"MCQ_generated.csv\", index=False)\n",
    "    print(f\"\\nSuccessfully exported quiz data to machinelearning_split_options.csv\")\n",
    "    \n",
    "    # Verify the exported data\n",
    "    print(\"\\nFirst few rows of exported data:\")\n",
    "    pd.read_csv(\"MCQ_generated.csv\").head()\n",
    "except Exception as e:\n",
    "    print(f\"Error exporting to CSV: {e}\")"
   ]
  },
  {
   "cell_type": "code",
   "execution_count": 43,
   "metadata": {},
   "outputs": [
    {
     "name": "stdout",
     "output_type": "stream",
     "text": [
      "\n",
      "Formatted Quiz Questions:\n",
      "================================================================================\n",
      "\n",
      "Question 1: What was the primary reason for Maharana Pratap's resistance against the Mughal Empire?\n",
      "----------------------------------------\n",
      "A) He wanted to expand his kingdom and conquer new territories.\n",
      "B) He was opposed to the Mughal Empire's religious policies.\n",
      "C) He wanted to protect his homeland's independence and sovereignty.\n",
      "D) He was angry with the Mughal Emperor Akbar's refusal to grant him a higher title.\n",
      "Correct Answer: C\n",
      "================================================================================\n",
      "\n",
      "Question 2: Which battle did Maharana Pratap fight against the Mughal Empire, led by Man Singh I?\n",
      "----------------------------------------\n",
      "A) The Battle of Haldighati\n",
      "B) The Battle of Chittor\n",
      "C) The Battle of Aravalli\n",
      "D) The Battle of Mewar\n",
      "Correct Answer: A\n",
      "================================================================================\n",
      "\n",
      "Question 3: What was the name of Maharana Pratap's loyal horse that died protecting him in the Battle of Haldighati?\n",
      "----------------------------------------\n",
      "A) Chetak\n",
      "B) Raju\n",
      "C) Raja\n",
      "D) Ranveer\n",
      "Correct Answer: A\n",
      "================================================================================\n",
      "\n",
      "Question 4: How did Maharana Pratap manage to reclaim much of Mewar except Chittor through strategic warfare?\n",
      "----------------------------------------\n",
      "A) By forming alliances with neighboring kingdoms\n",
      "B) By using guerrilla warfare tactics\n",
      "C) By paying a large ransom to the Mughal Empire\n",
      "D) By surrendering to the Mughal Empire\n",
      "Correct Answer: B\n",
      "================================================================================\n",
      "\n",
      "Question 5: Which of the following best describes Maharana Pratap's leadership style?\n",
      "----------------------------------------\n",
      "A) Autocratic\n",
      "B) Democratic\n",
      "C) Laissez-faire\n",
      "D) Transformational\n",
      "Correct Answer: D\n",
      "================================================================================\n"
     ]
    }
   ],
   "source": [
    "def display_formatted_questions(df):\n",
    "    \"\"\"Display questions in a more readable format\"\"\"\n",
    "    print(\"\\nFormatted Quiz Questions:\")\n",
    "    print(\"=\" * 80)\n",
    "    \n",
    "    for idx, row in df.iterrows():\n",
    "        print(f\"\\nQuestion {idx + 1}: {row['Question']}\")\n",
    "        print(\"-\" * 40)\n",
    "        print(f\"A) {row['Option_A']}\")\n",
    "        print(f\"B) {row['Option_B']}\")\n",
    "        print(f\"C) {row['Option_C']}\")\n",
    "        print(f\"D) {row['Option_D']}\")\n",
    "        print(f\"Correct Answer: {row['Correct_Answer']}\")\n",
    "        print(\"=\" * 80)\n",
    "\n",
    "# Display formatted questions\n",
    "display_formatted_questions(quiz_df)"
   ]
  },
  {
   "cell_type": "code",
   "execution_count": null,
   "metadata": {},
   "outputs": [],
   "source": []
  }
 ],
 "metadata": {
  "kernelspec": {
   "display_name": "Python 3",
   "language": "python",
   "name": "python3"
  },
  "language_info": {
   "codemirror_mode": {
    "name": "ipython",
    "version": 3
   },
   "file_extension": ".py",
   "mimetype": "text/x-python",
   "name": "python",
   "nbconvert_exporter": "python",
   "pygments_lexer": "ipython3",
   "version": "3.11.10"
  }
 },
 "nbformat": 4,
 "nbformat_minor": 2
}
